{
 "cells": [
  {
   "cell_type": "markdown",
   "id": "41669d2e",
   "metadata": {},
   "source": [
    "# Special Functions in Python"
   ]
  },
  {
   "cell_type": "markdown",
   "id": "438ae1f0",
   "metadata": {},
   "source": [
    "### 1. apply()"
   ]
  },
  {
   "cell_type": "code",
   "execution_count": 1,
   "id": "c2bfe931",
   "metadata": {},
   "outputs": [
    {
     "name": "stdout",
     "output_type": "stream",
     "text": [
      "  Students  Hw_Grades  Test_Grades    Avg\n",
      "0     Suzy         50           60   80.0\n",
      "1      Rob         60           80  100.0\n",
      "2     John         85           85  127.5\n",
      "3    Salim         90           80  130.0\n",
      "4  Holland        100           90  145.0\n",
      "5   Howard         80          100  130.0\n",
      "6     Carl         90          105  142.5\n",
      "7   Serena         70           95  117.5\n",
      "8    Megan         90           90  135.0\n"
     ]
    }
   ],
   "source": [
    "import pandas as pd\n",
    "\n",
    "\n",
    "\"\"\".apply()\"\"\"\n",
    "test_grades = [60, 80, 85, 80, 90, 100, 105, 95, 90]\n",
    "hw_grades = [50, 60, 85, 90, 100, 80, 90, 70, 90]\n",
    "students = ['Suzy', 'Rob', 'John', 'Salim', 'Holland', 'Howard', 'Carl', 'Serena', 'Megan']\n",
    "col_names = ['Students', 'Hw_Grades', 'Test_Grades']\n",
    "\n",
    "student_perf_df = pd.DataFrame(list(zip(students, hw_grades, test_grades)),\n",
    "                               columns = col_names)\n",
    "\n",
    "def calc_avg(num1, num2):\n",
    "    return num1+num2/2\n",
    "\n",
    "#using a for loop\n",
    "for idx, row in student_perf_df.iterrows():\n",
    "   student_perf_df.loc[idx, 'Avg'] = calc_avg(row['Hw_Grades'], row['Test_Grades'])\n",
    "\n",
    "#using .apply()\n",
    "'''avg_scores = []\n",
    "avg_scores =  student_perf_df.apply(lambda row: calc_avg(row['Hw_Grades'], row['Test_Grades']), axis=1)\n",
    "student_perf_df['Avg'] = avg_scores'''\n",
    "\n",
    "print(student_perf_df)"
   ]
  },
  {
   "cell_type": "markdown",
   "id": "e99d0c5f",
   "metadata": {},
   "source": [
    "### Example"
   ]
  },
  {
   "cell_type": "code",
   "execution_count": 2,
   "id": "0497e1c3",
   "metadata": {},
   "outputs": [
    {
     "data": {
      "text/html": [
       "<div>\n",
       "<style scoped>\n",
       "    .dataframe tbody tr th:only-of-type {\n",
       "        vertical-align: middle;\n",
       "    }\n",
       "\n",
       "    .dataframe tbody tr th {\n",
       "        vertical-align: top;\n",
       "    }\n",
       "\n",
       "    .dataframe thead th {\n",
       "        text-align: right;\n",
       "    }\n",
       "</style>\n",
       "<table border=\"1\" class=\"dataframe\">\n",
       "  <thead>\n",
       "    <tr style=\"text-align: right;\">\n",
       "      <th></th>\n",
       "      <th>item</th>\n",
       "      <th>price</th>\n",
       "      <th>tax</th>\n",
       "      <th>final_price</th>\n",
       "    </tr>\n",
       "  </thead>\n",
       "  <tbody>\n",
       "    <tr>\n",
       "      <th>0</th>\n",
       "      <td>milk</td>\n",
       "      <td>30</td>\n",
       "      <td>2</td>\n",
       "      <td>30.6</td>\n",
       "    </tr>\n",
       "    <tr>\n",
       "      <th>1</th>\n",
       "      <td>bread</td>\n",
       "      <td>50</td>\n",
       "      <td>5</td>\n",
       "      <td>52.5</td>\n",
       "    </tr>\n",
       "    <tr>\n",
       "      <th>2</th>\n",
       "      <td>eggs</td>\n",
       "      <td>20</td>\n",
       "      <td>1</td>\n",
       "      <td>20.2</td>\n",
       "    </tr>\n",
       "    <tr>\n",
       "      <th>3</th>\n",
       "      <td>butter</td>\n",
       "      <td>40</td>\n",
       "      <td>7</td>\n",
       "      <td>42.8</td>\n",
       "    </tr>\n",
       "  </tbody>\n",
       "</table>\n",
       "</div>"
      ],
      "text/plain": [
       "     item  price  tax  final_price\n",
       "0    milk     30    2         30.6\n",
       "1   bread     50    5         52.5\n",
       "2    eggs     20    1         20.2\n",
       "3  butter     40    7         42.8"
      ]
     },
     "execution_count": 2,
     "metadata": {},
     "output_type": "execute_result"
    }
   ],
   "source": [
    "item=['milk','bread','eggs','butter']\n",
    "price=[30,50,20,40]\n",
    "tax=[2,5,1,7]\n",
    "col_names = ['item', 'price','tax']\n",
    "\n",
    "grocery_df=pd.DataFrame(list(zip(item, price, tax)), columns=col_names)\n",
    "\n",
    "\n",
    "final_price = []\n",
    "final_price = grocery_df.apply(lambda row: row['price'] + ((row['price']*row['tax'])/100), axis=1)\n",
    "grocery_df['final_price'] = final_price\n",
    "grocery_df"
   ]
  },
  {
   "cell_type": "markdown",
   "id": "8cca03c2",
   "metadata": {},
   "source": [
    "### 2. zip()"
   ]
  },
  {
   "cell_type": "code",
   "execution_count": 3,
   "id": "3b8c2c26",
   "metadata": {},
   "outputs": [
    {
     "name": "stdout",
     "output_type": "stream",
     "text": [
      "0 Cloud 25\n",
      "1 Bruce 30\n",
      "2 Clark 32\n",
      "3 Grant 15\n",
      "4 Lana 76\n",
      "5 Sora 26\n",
      "6 Thanos 28\n",
      "7 Tony 42\n",
      "{'God of War 4': [30, 50, 20, 40], 'Rainbow 6 Siege': [30, 50, 20, 40], 'Assassins Creed: Vikings': [30, 50, 20, 40]}\n"
     ]
    }
   ],
   "source": [
    "\"\"\"Zip\"\"\"\n",
    "\n",
    "\"\"\"Zip Two lists\"\"\"\n",
    "names = ['Cloud', 'Bruce', 'Clark', 'Grant', \"Lana\", \"Sora\", 'Thanos', 'Tony']\n",
    "age = [25, 30, 32, 15, 76, 26, 28, 42]\n",
    "\n",
    "mapped_2_lists = zip(names, age)\n",
    "\n",
    "\"\"\"Zip Iterator Tuple Values\"\"\"\n",
    "for idx, (name, age) in enumerate(zip(names, age)):\n",
    "    print(idx, name, age)\n",
    "\n",
    "\"\"\"Zip Dictionary\"\"\"\n",
    "video_games = ['God of War 4', 'Rainbow 6 Siege', 'Assassins Creed: Vikings']\n",
    "game_prices = [60.00, 20.00, 40.00]\n",
    "\n",
    "game_price_dict = {video_games: price for video_games, game_prices \n",
    "                   in zip(video_games, game_prices)}\n",
    "print(game_price_dict)"
   ]
  },
  {
   "cell_type": "markdown",
   "id": "7ae0fcdf",
   "metadata": {},
   "source": [
    "### Example"
   ]
  },
  {
   "cell_type": "code",
   "execution_count": 4,
   "id": "50f2619d",
   "metadata": {},
   "outputs": [
    {
     "name": "stdout",
     "output_type": "stream",
     "text": [
      "<zip object at 0x00000187197833C0>\n",
      "('sky', 'orange')\n",
      "('earth', 'brown')\n",
      "('fire', 'red')\n",
      "('water', 'blue')\n",
      "('air', 'colourless')\n",
      "('sky', 'orange') ['sky', 'earth', 'fire', 'water', 'air'] ['orange', 'brown', 'red', 'blue', 'colourless']\n",
      "('earth', 'brown') ['sky', 'earth', 'fire', 'water', 'air'] ['orange', 'brown', 'red', 'blue', 'colourless']\n",
      "('fire', 'red') ['sky', 'earth', 'fire', 'water', 'air'] ['orange', 'brown', 'red', 'blue', 'colourless']\n",
      "('water', 'blue') ['sky', 'earth', 'fire', 'water', 'air'] ['orange', 'brown', 'red', 'blue', 'colourless']\n",
      "('air', 'colourless') ['sky', 'earth', 'fire', 'water', 'air'] ['orange', 'brown', 'red', 'blue', 'colourless']\n",
      "(0, ('sky', 'orange')) ['sky', 'earth', 'fire', 'water', 'air'] ['orange', 'brown', 'red', 'blue', 'colourless']\n",
      "(1, ('earth', 'brown')) ['sky', 'earth', 'fire', 'water', 'air'] ['orange', 'brown', 'red', 'blue', 'colourless']\n",
      "(2, ('fire', 'red')) ['sky', 'earth', 'fire', 'water', 'air'] ['orange', 'brown', 'red', 'blue', 'colourless']\n",
      "(3, ('water', 'blue')) ['sky', 'earth', 'fire', 'water', 'air'] ['orange', 'brown', 'red', 'blue', 'colourless']\n",
      "(4, ('air', 'colourless')) ['sky', 'earth', 'fire', 'water', 'air'] ['orange', 'brown', 'red', 'blue', 'colourless']\n",
      "0 sky orange\n",
      "1 earth brown\n",
      "2 fire red\n",
      "3 water blue\n",
      "4 air colourless\n"
     ]
    },
    {
     "data": {
      "text/plain": [
       "{'sky': 'orange',\n",
       " 'earth': 'brown',\n",
       " 'fire': 'red',\n",
       " 'water': 'blue',\n",
       " 'air': 'colourless'}"
      ]
     },
     "execution_count": 4,
     "metadata": {},
     "output_type": "execute_result"
    }
   ],
   "source": [
    "nature=['sky','earth','fire','water','air']\n",
    "colour=['orange','brown','red','blue','colourless']\n",
    "\n",
    "zipped = zip(nature,colour)\n",
    "print(zipped)\n",
    "\n",
    "for idx in zip(nature,colour):\n",
    "    print(idx)\n",
    "    \n",
    "for idx in zip(nature,colour):\n",
    "    print(idx, nature, colour)\n",
    "    \n",
    "for idx in enumerate(zip(nature,colour)):\n",
    "    print(idx, nature, colour)\n",
    "    \n",
    "for idx, (nat, col) in enumerate(zip(nature,colour)):\n",
    "    print(idx,nat,col)\n",
    "\n",
    "zipped_dict = {nature: colour for nature,colour in zip(nature,colour)}\n",
    "#zipped_dict = {nature: colour for nature,colour in enumerate(zip(nature,colour))}\n",
    "zipped_dict"
   ]
  },
  {
   "cell_type": "markdown",
   "id": "57a45ed6",
   "metadata": {},
   "source": [
    "### 3. lambda()"
   ]
  },
  {
   "cell_type": "code",
   "execution_count": 5,
   "id": "549cb1f2",
   "metadata": {},
   "outputs": [
    {
     "name": "stdout",
     "output_type": "stream",
     "text": [
      "Standard Avg Function: 36.333333333333336 Lambda Avg Function: 36.333333333333336\n",
      "Standard Square Num: 25 Lambda Square Num: 25\n",
      "Lambda Odd Number odd num\n",
      "Lambda Sorting [0, 11, 12, 43, 44, 53, 67, 67, 86, 89, 98]\n"
     ]
    }
   ],
   "source": [
    "\"\"\"Lambda\"\"\"\n",
    "\n",
    "\"\"\"Lambda Average\"\"\"\n",
    "num_list = [87, 34, 1, 55, 23, 34, 22, 67, 48, 29, 10, 26]\n",
    "def calc_avg(num_list):\n",
    "    return sum(num_list)/len(num_list)\n",
    "\n",
    "lambda_avg = lambda number_list: sum(number_list)/len(number_list)\n",
    "\n",
    "print('Standard Avg Function:', calc_avg(num_list), \n",
    "      'Lambda Avg Function:', lambda_avg(num_list))\n",
    "\n",
    "\"\"\"Lambda Square\"\"\"\n",
    "def square_num(num1):\n",
    "    return num1 ** 2\n",
    "\n",
    "lambda_square = lambda num1: num1 ** 2\n",
    "\n",
    "print('Standard Square Num:', square_num(5), \n",
    "      'Lambda Square Num:', square_num(5))\n",
    "\n",
    "\"\"\"Lambda Odd Number\"\"\"\n",
    "odd_num = lambda num: \"even num\" if num % 2 == 0 else \"odd num\"\n",
    "print('Lambda Odd Number', odd_num(5))\n",
    "\n",
    "\"\"\"Lambda Sorting\"\"\"\n",
    "num_list2 = [43,12,67,89,11,44,0, 98,86,53,67]\n",
    "lambda_sorting_list = sorted(num_list2, key=lambda x: int(x))\n",
    "print(\"Lambda Sorting\", lambda_sorting_list)"
   ]
  },
  {
   "cell_type": "markdown",
   "id": "0f61e8ca",
   "metadata": {},
   "source": [
    "### Example"
   ]
  },
  {
   "cell_type": "code",
   "execution_count": 6,
   "id": "2707e84b",
   "metadata": {},
   "outputs": [
    {
     "data": {
      "text/plain": [
       "'even'"
      ]
     },
     "execution_count": 6,
     "metadata": {},
     "output_type": "execute_result"
    }
   ],
   "source": [
    "odd_func = lambda num: \"odd\" if num % 2 != 0 else \"even\"\n",
    "odd_func(8)"
   ]
  },
  {
   "cell_type": "markdown",
   "id": "0406720c",
   "metadata": {},
   "source": [
    "### 4. map()"
   ]
  },
  {
   "cell_type": "code",
   "execution_count": 7,
   "id": "9af40b52",
   "metadata": {},
   "outputs": [
    {
     "name": "stdout",
     "output_type": "stream",
     "text": [
      "Lambda [4, -4, 20, -40, 80, -240, -320, 120, 92, 224, 364, -396]\n",
      "Map + Lambda [4, -4, 20, -40, 80, -240, -320, 120, 92, 224, 364, -396]\n",
      "Lambda Calculating Total Prices [142.15, 199.1875, 141.975, 56.25]\n",
      "Listified Cereal [['C', 'o', 'c', 'o', ' ', 'P', 'u', 'f', 'f', 's'], ['C', 'i', 'n', 'n', 'a', 'm', 'o', 'n', ' ', 'T', 'o', 'a', 's', 't', ' ', 'C', 'r', 'u', 'n', 'c', 'h'], ['F', 'r', 'u', 'i', 't', 'y', ' ', 'P', 'e', 'b', 'b', 'l', 'e', 's'], ['C', 'o', 'o', 'k', 'i', 'e', ' ', 'C', 'r', 'i', 's', 'p'], ['C', 'h', 'e', 'x'], ['K', 'i', 'x']]\n"
     ]
    }
   ],
   "source": [
    "\"\"\"Map\"\"\"\n",
    "num_list4 = [1, -1, 5, -10, 20, -60, -80, 30, 23, 56, 91, -99]\n",
    "def multiply_4(n):\n",
    "    return n * 4\n",
    "\n",
    "#need to wrap in list function to avoid returning memory location\n",
    "muliplied_by_4_list = list(map(multiply_4, num_list4))\n",
    "print(\"Lambda\", muliplied_by_4_list)\n",
    "\n",
    "\"\"\"Map + Lambda\"\"\"\n",
    "multiplied_by_4_list_lambda = list(map(lambda x: x * 4, num_list4))\n",
    "print(\"Map + Lambda\", multiplied_by_4_list_lambda)\n",
    "\n",
    "price = [981.00, 876.75, 573.25, 142.50]\n",
    "discounts = [.15, .25, .30, .50]\n",
    "coupons = [5.00, 20.00, 30.00, 15.00]\n",
    "\n",
    "total_prices = list(map(lambda x, y, z : x*y-z, price, discounts, coupons))\n",
    "print(\"Lambda Calculating Total Prices\", total_prices)\n",
    "\n",
    "\"\"\"Map List Elements in a List\"\"\"\n",
    "cereal = ['Coco Puffs', 'Cinnamon Toast Crunch', 'Fruity Pebbles', \n",
    "          'Cookie Crisp', 'Chex', 'Kix']\n",
    "\n",
    "listified_cereal = list(map(list, cereal))\n",
    "print('Listified Cereal', listified_cereal)"
   ]
  },
  {
   "cell_type": "markdown",
   "id": "0950b824",
   "metadata": {},
   "source": [
    "### Example\n"
   ]
  },
  {
   "cell_type": "code",
   "execution_count": 8,
   "id": "a0ba9fe8",
   "metadata": {},
   "outputs": [
    {
     "name": "stdout",
     "output_type": "stream",
     "text": [
      "['a', 'm', 'a', 'z', 'i', 'n', 'g']\n",
      "['amazing', 'view', 'from', 'the', 'hill']\n",
      "<map object at 0x00000187197890A0>\n",
      "[['a', 'm', 'a', 'z', 'i', 'n', 'g'], ['v', 'i', 'e', 'w'], ['f', 'r', 'o', 'm'], ['t', 'h', 'e'], ['h', 'i', 'l', 'l']]\n",
      "(<function <lambda> at 0x000001871978D670>, [1000, 2000, 3000, 4000], [1, 2, 1, 3], [5, 4, 7, 5])\n",
      "<map object at 0x0000018719789CD0>\n",
      "[50.0, 160.0, 210.0, 600.0]\n"
     ]
    }
   ],
   "source": [
    "word='amazing'\n",
    "listified_word = list(word)\n",
    "print(listified_word)\n",
    "\n",
    "words=['amazing','view','from','the','hill']\n",
    "listified_words = list(words)\n",
    "print(listified_words)\n",
    "\n",
    "listified_words_2 = map(list, words)\n",
    "print(listified_words_2)\n",
    "\n",
    "listified_words_2 = list(map(list, words))\n",
    "print(listified_words_2)\n",
    "\n",
    "principal = [1000, 2000, 3000, 4000]\n",
    "time = [1, 2, 1, 3]\n",
    "rate = [5, 4, 7, 5]\n",
    "\n",
    "interest= (lambda x, y, z: x*y*z/100, principal, time, rate)\n",
    "print(interest)\n",
    "\n",
    "interest= map(lambda x, y, z: x*y*z/100, principal, time, rate)\n",
    "print(interest)\n",
    "\n",
    "interest= list(map(lambda x, y, z: x*y*z/100, principal, time, rate))\n",
    "print(interest)"
   ]
  },
  {
   "cell_type": "markdown",
   "id": "14240966",
   "metadata": {},
   "source": [
    "### 5. reduce()"
   ]
  },
  {
   "cell_type": "code",
   "execution_count": 9,
   "id": "70ffd1bc",
   "metadata": {},
   "outputs": [
    {
     "name": "stdout",
     "output_type": "stream",
     "text": [
      "House Downpayments:  [45000.0, 120000.0, 240000.0, 162150.0, 1040050.0, 71050.0]\n",
      "Monthly Payments Over 30 Years:  [1250, 2222, 3333, 1501, 28890, 5638]\n",
      "Total Inventory Value:  15421000.0\n"
     ]
    }
   ],
   "source": [
    "\"\"\"Reduce\"\"\"\n",
    "from functools import reduce\n",
    "\n",
    "home_prices = [450000.00, 800000.00, 1200000.00, 540500.00, 10400500.00, 2030000.00]\n",
    "downpayment_rate = [.10, .15, .20, .30, .10, .035]\n",
    "monthly_payment_30 = 360\n",
    "\n",
    "downpayment_for_homes = list(map(lambda x, y: x * y, home_prices, downpayment_rate))\n",
    "monthly_payments_30y = list(map(lambda x : int(x/monthly_payment_30), home_prices))\n",
    "\n",
    "total_value_of_owned_homes = reduce(lambda x, y : x + y, home_prices)\n",
    "\n",
    "print(\"House Downpayments: \", downpayment_for_homes)\n",
    "print('Monthly Payments Over 30 Years: ', monthly_payments_30y)\n",
    "print('Total Inventory Value: ', total_value_of_owned_homes)"
   ]
  },
  {
   "cell_type": "markdown",
   "id": "eb012863",
   "metadata": {},
   "source": [
    "### Example"
   ]
  },
  {
   "cell_type": "code",
   "execution_count": 10,
   "id": "fab7b014",
   "metadata": {},
   "outputs": [
    {
     "data": {
      "text/plain": [
       "34500"
      ]
     },
     "execution_count": 10,
     "metadata": {},
     "output_type": "execute_result"
    }
   ],
   "source": [
    "accessories =['watch','sunglasses','earphones','necklace']\n",
    "price=[3000, 4000, 2500, 25000]\n",
    "\n",
    "total_worth=reduce(lambda x,y: x+y, price)\n",
    "total_worth"
   ]
  },
  {
   "cell_type": "markdown",
   "id": "5ce35f74",
   "metadata": {},
   "source": [
    "### 6. filter()"
   ]
  },
  {
   "cell_type": "code",
   "execution_count": 11,
   "id": "fa4011bd",
   "metadata": {},
   "outputs": [
    {
     "name": "stdout",
     "output_type": "stream",
     "text": [
      "The filtered letters are:\n",
      "e\n",
      "e\n"
     ]
    }
   ],
   "source": [
    "# function that filters vowels\n",
    "def fun(variable):\n",
    "    letters = ['a', 'e', 'i', 'o', 'u']\n",
    "    if (variable in letters):\n",
    "        return True\n",
    "    else:\n",
    "        return False\n",
    " \n",
    " \n",
    "# sequence\n",
    "sequence = ['g', 'e', 'e', 'j', 'k', 's', 'p', 'r']\n",
    " \n",
    "# using filter function\n",
    "filtered = filter(fun, sequence)\n",
    " \n",
    "print('The filtered letters are:')\n",
    "for s in filtered:\n",
    "    print(s)"
   ]
  },
  {
   "cell_type": "code",
   "execution_count": 12,
   "id": "be1b46a3",
   "metadata": {},
   "outputs": [
    {
     "name": "stdout",
     "output_type": "stream",
     "text": [
      "[1, 3, 5, 13]\n",
      "[0, 2, 8]\n"
     ]
    }
   ],
   "source": [
    "# a list contains both even and odd numbers. \n",
    "seq = [0, 1, 2, 3, 5, 8, 13]\n",
    " \n",
    "# result contains odd numbers of the list\n",
    "result = filter(lambda x: x % 2 != 0, seq)\n",
    "print(list(result))\n",
    " \n",
    "# result contains even numbers of the list\n",
    "result = filter(lambda x: x % 2 == 0, seq)\n",
    "print(list(result))"
   ]
  },
  {
   "cell_type": "code",
   "execution_count": 13,
   "id": "3f693bcd",
   "metadata": {},
   "outputs": [
    {
     "name": "stdout",
     "output_type": "stream",
     "text": [
      "[3, 6, 9]\n"
     ]
    }
   ],
   "source": [
    "# Define a function to check \n",
    "# if a number is a multiple of 3\n",
    "def is_multiple_of_3(num):\n",
    "    return num % 3 == 0\n",
    " \n",
    " \n",
    "# Create a list of numbers to filter\n",
    "numbers = [1, 2, 3, 4, 5, 6, 7, 8, 9, 10]\n",
    " \n",
    "# Use filter and a lambda function to\n",
    "# filter the list of numbers and only\n",
    "# keep the ones that are multiples of 3\n",
    "result = list(filter(lambda x: is_multiple_of_3(x), numbers))\n",
    " \n",
    "# Print the result\n",
    "print(result)"
   ]
  },
  {
   "cell_type": "markdown",
   "id": "21ac0882",
   "metadata": {},
   "source": [
    "### Example"
   ]
  },
  {
   "cell_type": "code",
   "execution_count": 14,
   "id": "9173a2ea",
   "metadata": {},
   "outputs": [
    {
     "name": "stdout",
     "output_type": "stream",
     "text": [
      "knife\n",
      "[1, 6, 8, 87, -11]\n"
     ]
    }
   ],
   "source": [
    "threat_words=['bomb','gun','knife']\n",
    "lambda_func= lambda x: True if x in threat_words else False\n",
    "\n",
    "examples=['bom','bread','guiness','knife']\n",
    "\n",
    "filtered= filter(lambda_func, examples)\n",
    "for n in filtered:\n",
    "    print(n)\n",
    "    \n",
    "    \n",
    "numbers=[1,3.5,7.6,6,8,10.11,87,46.7,-11]\n",
    "filtered_numbers=list(filter(lambda x: True if type(x) == type(-1) else False, numbers))\n",
    "print(filtered_numbers)"
   ]
  }
 ],
 "metadata": {
  "kernelspec": {
   "display_name": "Python 3 (ipykernel)",
   "language": "python",
   "name": "python3"
  },
  "language_info": {
   "codemirror_mode": {
    "name": "ipython",
    "version": 3
   },
   "file_extension": ".py",
   "mimetype": "text/x-python",
   "name": "python",
   "nbconvert_exporter": "python",
   "pygments_lexer": "ipython3",
   "version": "3.9.13"
  }
 },
 "nbformat": 4,
 "nbformat_minor": 5
}
