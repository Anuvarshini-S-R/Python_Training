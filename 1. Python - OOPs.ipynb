{
 "cells": [
  {
   "cell_type": "markdown",
   "id": "77841820",
   "metadata": {},
   "source": [
    "## 1. Classes and Instances"
   ]
  },
  {
   "cell_type": "code",
   "execution_count": 19,
   "id": "c32be04b",
   "metadata": {},
   "outputs": [],
   "source": [
    "#class Employee:\n",
    "#IndentationError: expected an indented block"
   ]
  },
  {
   "cell_type": "code",
   "execution_count": 4,
   "id": "a03c0294",
   "metadata": {},
   "outputs": [],
   "source": [
    "class Employee:\n",
    "    pass"
   ]
  },
  {
   "cell_type": "code",
   "execution_count": 11,
   "id": "b2b5c300",
   "metadata": {},
   "outputs": [
    {
     "name": "stdout",
     "output_type": "stream",
     "text": [
      "<__main__.Employee object at 0x000001C935343BB0>\n",
      "<__main__.Employee object at 0x000001C935324040>\n"
     ]
    }
   ],
   "source": [
    "emp_1 = Employee()\n",
    "emp_2 = Employee()\n",
    "\n",
    "print(emp_1)\n",
    "print(emp_2)"
   ]
  },
  {
   "cell_type": "code",
   "execution_count": 64,
   "id": "6d86e96b",
   "metadata": {},
   "outputs": [
    {
     "name": "stdout",
     "output_type": "stream",
     "text": [
      "Corey.Schafer@company.com\n",
      "Test.User@company.com\n"
     ]
    }
   ],
   "source": [
    "emp_1.first='Corey'\n",
    "emp_1.last='Schafer'\n",
    "emp_1.email='Corey.Schafer@company.com'\n",
    "emp_1.pay = 50000\n",
    "\n",
    "emp_2.first='Test'\n",
    "emp_2.last='User'\n",
    "emp_2.email='Test.User@company.com'\n",
    "emp_2.pay = 60000\n",
    "\n",
    "print(emp_1.email)\n",
    "print(emp_2.email)"
   ]
  },
  {
   "cell_type": "code",
   "execution_count": 65,
   "id": "b477627b",
   "metadata": {},
   "outputs": [
    {
     "name": "stdout",
     "output_type": "stream",
     "text": [
      "Corey.Schafer@company.com\n",
      "Test.User@company.com\n",
      "Corey Schafer\n"
     ]
    }
   ],
   "source": [
    "class Employee:\n",
    "    def __init__(self, first, last, pay):\n",
    "        self.first = first\n",
    "        self.last = last\n",
    "        self.pay = pay\n",
    "        self.email = first +'.'+ last + '@company.com'\n",
    "        \n",
    "emp_1 = Employee('Corey','Schafer',50000)\n",
    "emp_2 = Employee('Test','User',60000)\n",
    "\n",
    "print(emp_1.email)\n",
    "print(emp_2.email)\n",
    "\n",
    "print('{} {}'.format(emp_1.first,emp_1.last))"
   ]
  },
  {
   "cell_type": "code",
   "execution_count": 66,
   "id": "6da75a66",
   "metadata": {},
   "outputs": [
    {
     "name": "stdout",
     "output_type": "stream",
     "text": [
      "Corey.Schafer@company.com\n",
      "Test.User@company.com\n",
      "Corey Schafer\n",
      "<bound method Employee.fullname of <__main__.Employee object at 0x000001C9382D4730>>\n",
      "Test User\n"
     ]
    }
   ],
   "source": [
    "class Employee:\n",
    "    def __init__(self, first, last, pay):\n",
    "        self.first = first\n",
    "        self.last = last\n",
    "        self.pay = pay\n",
    "        self.email = first +'.'+ last + '@company.com'\n",
    "    \n",
    "    def fullname(self):\n",
    "        return '{} {}'.format(self.first,self.last)\n",
    "        \n",
    "emp_1 = Employee('Corey','Schafer',50000)\n",
    "emp_2 = Employee('Test','User',60000)\n",
    "\n",
    "print(emp_1.email)\n",
    "print(emp_2.email)\n",
    "\n",
    "print(emp_1.fullname())\n",
    "print(emp_1.fullname)\n",
    "\n",
    "print(emp_2.fullname())"
   ]
  },
  {
   "cell_type": "code",
   "execution_count": 67,
   "id": "ae1e8db1",
   "metadata": {},
   "outputs": [
    {
     "name": "stdout",
     "output_type": "stream",
     "text": [
      "Corey Schafer\n"
     ]
    }
   ],
   "source": [
    "class Employee:\n",
    "    def __init__(self, first, last, pay):\n",
    "        self.first = first\n",
    "        self.last = last\n",
    "        self.pay = pay\n",
    "        self.email = first +'.'+ last + '@company.com'\n",
    "    \n",
    "    def fullname(self):\n",
    "        return '{} {}'.format(self.first,self.last)\n",
    "        \n",
    "emp_1 = Employee('Corey','Schafer',50000)\n",
    "emp_2 = Employee('Test','User',60000)\n",
    "\n",
    "#emp_1.fullname()\n",
    "print(Employee.fullname(emp_1))"
   ]
  },
  {
   "cell_type": "markdown",
   "id": "9850350f",
   "metadata": {},
   "source": [
    "## 2. Class Variables"
   ]
  },
  {
   "cell_type": "code",
   "execution_count": 68,
   "id": "4a8baaa7",
   "metadata": {},
   "outputs": [
    {
     "name": "stdout",
     "output_type": "stream",
     "text": [
      "50000\n",
      "52000\n"
     ]
    }
   ],
   "source": [
    "class Employee:\n",
    "    def __init__(self, first, last, pay):\n",
    "        self.first = first #instance variables\n",
    "        self.last = last\n",
    "        self.pay = pay\n",
    "        self.email = first +'.'+ last + '@company.com'\n",
    "    \n",
    "    def fullname(self):\n",
    "        return '{} {}'.format(self.first,self.last)\n",
    "    \n",
    "    def apply_raise(self):\n",
    "        self.pay = int(self.pay * 1.04)\n",
    "        \n",
    "emp_1 = Employee('Corey','Schafer',50000)\n",
    "emp_2 = Employee('Test','User',60000)\n",
    "\n",
    "\n",
    "print(emp_1.pay)\n",
    "emp_1.apply_raise()\n",
    "print(emp_1.pay)"
   ]
  },
  {
   "cell_type": "code",
   "execution_count": 69,
   "id": "cf1eb4cf",
   "metadata": {},
   "outputs": [
    {
     "name": "stdout",
     "output_type": "stream",
     "text": [
      "50000\n"
     ]
    },
    {
     "ename": "NameError",
     "evalue": "name 'raise_amount' is not defined",
     "output_type": "error",
     "traceback": [
      "\u001b[1;31m---------------------------------------------------------------------------\u001b[0m",
      "\u001b[1;31mNameError\u001b[0m                                 Traceback (most recent call last)",
      "\u001b[1;32m~\\AppData\\Local\\Temp\\ipykernel_19992\\3739337155.py\u001b[0m in \u001b[0;36m<module>\u001b[1;34m\u001b[0m\n\u001b[0;32m     20\u001b[0m \u001b[1;33m\u001b[0m\u001b[0m\n\u001b[0;32m     21\u001b[0m \u001b[0mprint\u001b[0m\u001b[1;33m(\u001b[0m\u001b[0memp_1\u001b[0m\u001b[1;33m.\u001b[0m\u001b[0mpay\u001b[0m\u001b[1;33m)\u001b[0m\u001b[1;33m\u001b[0m\u001b[1;33m\u001b[0m\u001b[0m\n\u001b[1;32m---> 22\u001b[1;33m \u001b[0memp_1\u001b[0m\u001b[1;33m.\u001b[0m\u001b[0mapply_raise\u001b[0m\u001b[1;33m(\u001b[0m\u001b[1;33m)\u001b[0m\u001b[1;33m\u001b[0m\u001b[1;33m\u001b[0m\u001b[0m\n\u001b[0m\u001b[0;32m     23\u001b[0m \u001b[0mprint\u001b[0m\u001b[1;33m(\u001b[0m\u001b[0memp_1\u001b[0m\u001b[1;33m.\u001b[0m\u001b[0mpay\u001b[0m\u001b[1;33m)\u001b[0m\u001b[1;33m\u001b[0m\u001b[1;33m\u001b[0m\u001b[0m\n",
      "\u001b[1;32m~\\AppData\\Local\\Temp\\ipykernel_19992\\3739337155.py\u001b[0m in \u001b[0;36mapply_raise\u001b[1;34m(self)\u001b[0m\n\u001b[0;32m     13\u001b[0m \u001b[1;33m\u001b[0m\u001b[0m\n\u001b[0;32m     14\u001b[0m     \u001b[1;32mdef\u001b[0m \u001b[0mapply_raise\u001b[0m\u001b[1;33m(\u001b[0m\u001b[0mself\u001b[0m\u001b[1;33m)\u001b[0m\u001b[1;33m:\u001b[0m\u001b[1;33m\u001b[0m\u001b[1;33m\u001b[0m\u001b[0m\n\u001b[1;32m---> 15\u001b[1;33m         \u001b[0mself\u001b[0m\u001b[1;33m.\u001b[0m\u001b[0mpay\u001b[0m \u001b[1;33m=\u001b[0m \u001b[0mint\u001b[0m\u001b[1;33m(\u001b[0m\u001b[0mself\u001b[0m\u001b[1;33m.\u001b[0m\u001b[0mpay\u001b[0m \u001b[1;33m*\u001b[0m \u001b[0mraise_amount\u001b[0m\u001b[1;33m)\u001b[0m \u001b[1;31m#NameError: name 'raise_amount' is not defined\u001b[0m\u001b[1;33m\u001b[0m\u001b[1;33m\u001b[0m\u001b[0m\n\u001b[0m\u001b[0;32m     16\u001b[0m \u001b[1;33m\u001b[0m\u001b[0m\n\u001b[0;32m     17\u001b[0m \u001b[0memp_1\u001b[0m \u001b[1;33m=\u001b[0m \u001b[0mEmployee\u001b[0m\u001b[1;33m(\u001b[0m\u001b[1;34m'Corey'\u001b[0m\u001b[1;33m,\u001b[0m\u001b[1;34m'Schafer'\u001b[0m\u001b[1;33m,\u001b[0m\u001b[1;36m50000\u001b[0m\u001b[1;33m)\u001b[0m\u001b[1;33m\u001b[0m\u001b[1;33m\u001b[0m\u001b[0m\n",
      "\u001b[1;31mNameError\u001b[0m: name 'raise_amount' is not defined"
     ]
    }
   ],
   "source": [
    "class Employee:\n",
    "    \n",
    "    raise_amount = 1.04 #class variables\n",
    "    \n",
    "    def __init__(self, first, last, pay):\n",
    "        self.first = first #instance variables\n",
    "        self.last = last\n",
    "        self.pay = pay\n",
    "        self.email = first +'.'+ last + '@company.com'\n",
    "    \n",
    "    def fullname(self):\n",
    "        return '{} {}'.format(self.first,self.last)\n",
    "    \n",
    "    def apply_raise(self):\n",
    "        self.pay = int(self.pay * raise_amount) #NameError: name 'raise_amount' is not defined\n",
    "        \n",
    "emp_1 = Employee('Corey','Schafer',50000)\n",
    "emp_2 = Employee('Test','User',60000)\n",
    "\n",
    "\n",
    "print(emp_1.pay)\n",
    "emp_1.apply_raise()\n",
    "print(emp_1.pay)"
   ]
  },
  {
   "cell_type": "code",
   "execution_count": 70,
   "id": "3d856495",
   "metadata": {},
   "outputs": [
    {
     "name": "stdout",
     "output_type": "stream",
     "text": [
      "0\n",
      "1.04\n",
      "1.04\n",
      "1.04\n",
      "{'first': 'Corey', 'last': 'Schafer', 'pay': 50000, 'email': 'Corey.Schafer@company.com'}\n",
      "{'__module__': '__main__', 'num_of_emps': 2, 'raise_amount': 1.04, '__init__': <function Employee.__init__ at 0x000001C937C50820>, 'fullname': <function Employee.fullname at 0x000001C937C508B0>, 'apply_raise': <function Employee.apply_raise at 0x000001C937C50790>, '__dict__': <attribute '__dict__' of 'Employee' objects>, '__weakref__': <attribute '__weakref__' of 'Employee' objects>, '__doc__': None}\n",
      "1.04\n",
      "1.05\n",
      "1.04\n",
      "{'first': 'Corey', 'last': 'Schafer', 'pay': 50000, 'email': 'Corey.Schafer@company.com', 'raise_amount': 1.05}\n",
      "2\n"
     ]
    }
   ],
   "source": [
    "class Employee:\n",
    "    \n",
    "    num_of_emps = 0\n",
    "    raise_amount = 1.04 #class variables\n",
    "    \n",
    "    def __init__(self, first, last, pay):\n",
    "        self.first = first #instance variables\n",
    "        self.last = last\n",
    "        self.pay = pay\n",
    "        self.email = first +'.'+ last + '@company.com'\n",
    "        Employee.num_of_emps +=1\n",
    "    \n",
    "    def fullname(self):\n",
    "        return '{} {}'.format(self.first,self.last)\n",
    "    \n",
    "    def apply_raise(self):\n",
    "        #self.pay = int(self.pay * Employee.raise_amount) #works\n",
    "        self.pay = int(self.pay * self.raise_amount) # self allows raise amount to be changed for every instance\n",
    "\n",
    "        \n",
    "print(Employee.num_of_emps)\n",
    "\n",
    "emp_1 = Employee('Corey','Schafer',50000)\n",
    "emp_2 = Employee('Test','User',60000)\n",
    "\n",
    "\n",
    "\n",
    "print(Employee.raise_amount)\n",
    "print(emp_1.raise_amount)\n",
    "print(emp_2.raise_amount)\n",
    "\n",
    "\n",
    "print(emp_1.__dict__)\n",
    "print(Employee.__dict__)\n",
    "\n",
    "#Employee.raise_amount = 1.05\n",
    "emp_1.raise_amount = 1.05\n",
    "\n",
    "print(Employee.raise_amount)\n",
    "print(emp_1.raise_amount)\n",
    "print(emp_2.raise_amount)\n",
    "\n",
    "print(emp_1.__dict__)\n",
    "\n",
    "print(Employee.num_of_emps)"
   ]
  },
  {
   "cell_type": "markdown",
   "id": "ae358d84",
   "metadata": {},
   "source": [
    "## 3. Regular Methods, Class Methods and Static Methods"
   ]
  },
  {
   "cell_type": "code",
   "execution_count": 71,
   "id": "d4b5c9d1",
   "metadata": {},
   "outputs": [
    {
     "name": "stdout",
     "output_type": "stream",
     "text": [
      "1.04\n",
      "1.04\n",
      "1.04\n",
      "1.05\n",
      "1.05\n",
      "1.05\n"
     ]
    }
   ],
   "source": [
    "class Employee:\n",
    "    \n",
    "    num_of_emps = 0\n",
    "    raise_amount = 1.04 #class variables\n",
    "    \n",
    "    def __init__(self, first, last, pay):\n",
    "        self.first = first #instance variables\n",
    "        self.last = last\n",
    "        self.pay = pay\n",
    "        self.email = first +'.'+ last + '@company.com'\n",
    "        Employee.num_of_emps += 1\n",
    "    \n",
    "    def fullname(self): #regular methods automatically take the instance (self) as first argument\n",
    "        return '{} {}'.format(self.first,self.last)\n",
    "    \n",
    "    def apply_raise(self):\n",
    "        self.pay = int(self.pay * self.raise_amount)\n",
    "        \n",
    "    @classmethod                    #class methods\n",
    "    def set_raise_amt(cls, amount): #cls is covention like self\n",
    "        cls.raise_amount = amount\n",
    "        \n",
    "emp_1 = Employee('Corey','Schafer',50000)\n",
    "emp_2 = Employee('Test','User',60000)\n",
    "\n",
    "\n",
    "print(Employee.raise_amount)\n",
    "print(emp_1.raise_amount)\n",
    "print(emp_2.raise_amount)\n",
    "\n",
    "Employee.set_raise_amt(1.05) # same as emp_1.set_raise_amt(1.05)\n",
    "\n",
    "print(Employee.raise_amount)\n",
    "print(emp_1.raise_amount)\n",
    "print(emp_2.raise_amount)"
   ]
  },
  {
   "cell_type": "code",
   "execution_count": 72,
   "id": "4248a36a",
   "metadata": {},
   "outputs": [
    {
     "name": "stdout",
     "output_type": "stream",
     "text": [
      "John.Doe@company.com\n",
      "70000\n"
     ]
    }
   ],
   "source": [
    "class Employee:\n",
    "    \n",
    "    num_of_emps = 0\n",
    "    raise_amount = 1.04 #class variables\n",
    "    \n",
    "    def __init__(self, first, last, pay):\n",
    "        self.first = first #instance variables\n",
    "        self.last = last\n",
    "        self.pay = pay\n",
    "        self.email = first +'.'+ last + '@company.com'\n",
    "        Employee.num_of_emps += 1\n",
    "    \n",
    "    def fullname(self): #regular methods automatically take the instance (self) as first argument\n",
    "        return '{} {}'.format(self.first,self.last)\n",
    "    \n",
    "    def apply_raise(self):\n",
    "        self.pay = int(self.pay * self.raise_amount)\n",
    "        \n",
    "    @classmethod                    #class methods\n",
    "    def set_raise_amt(cls, amount): #cls is covention like self\n",
    "        cls.raise_amount = amount\n",
    "        \n",
    "        \n",
    "emp_1 = Employee('Corey','Schafer',50000)\n",
    "emp_2 = Employee('Test','User',60000)\n",
    "\n",
    "\n",
    "emp_str_1 = 'John-Doe-70000'\n",
    "emp_str_2 = 'Steve-Smith-30000'\n",
    "emp_str_3 = 'Jane-Doe-90000'\n",
    "\n",
    "first, last, pay = emp_str_1.split('-')\n",
    "new_emp_1 = Employee(first, last, pay)\n",
    "\n",
    "print(new_emp_1.email)\n",
    "print(new_emp_1.pay)"
   ]
  },
  {
   "cell_type": "code",
   "execution_count": 73,
   "id": "d9afb6f7",
   "metadata": {},
   "outputs": [
    {
     "name": "stdout",
     "output_type": "stream",
     "text": [
      "John.Doe@company.com\n",
      "70000\n"
     ]
    }
   ],
   "source": [
    "class Employee:\n",
    "    \n",
    "    num_of_emps = 0\n",
    "    raise_amount = 1.04 #class variables\n",
    "    \n",
    "    def __init__(self, first, last, pay):\n",
    "        self.first = first #instance variables\n",
    "        self.last = last\n",
    "        self.pay = pay\n",
    "        self.email = first +'.'+ last + '@company.com'\n",
    "        Employee.num_of_emps += 1\n",
    "    \n",
    "    def fullname(self): #regular methods automatically take the instance (self) as first argument\n",
    "        return '{} {}'.format(self.first,self.last)\n",
    "    \n",
    "    def apply_raise(self):\n",
    "        self.pay = int(self.pay * self.raise_amount)\n",
    "        \n",
    "    @classmethod                    #class methods\n",
    "    def set_raise_amt(cls, amount): #cls is covention like self\n",
    "        cls.raise_amount = amount\n",
    "        \n",
    "    @classmethod                    #class method usekd as alternative constructor\n",
    "    def from_string(cls, emp_str):\n",
    "        first, last, pay = emp_str.split('-')\n",
    "        return cls(first, last, pay) #this will create the new employee\n",
    "        \n",
    "        \n",
    "emp_1 = Employee('Corey','Schafer',50000)\n",
    "emp_2 = Employee('Test','User',60000)\n",
    "\n",
    "\n",
    "emp_str_1 = 'John-Doe-70000'\n",
    "emp_str_2 = 'Steve-Smith-30000'\n",
    "emp_str_3 = 'Jane-Doe-90000'\n",
    "\n",
    "new_emp_1 = Employee.from_string(emp_str_1)\n",
    "\n",
    "print(new_emp_1.email)\n",
    "print(new_emp_1.pay)"
   ]
  },
  {
   "cell_type": "markdown",
   "id": "5ba67324",
   "metadata": {},
   "source": [
    "class Employee:\n",
    "    \n",
    "    num_of_emps = 0\n",
    "    raise_amount = 1.04 #class variables\n",
    "    \n",
    "    def __init__(self, first, last, pay):\n",
    "        self.first = first #instance variables\n",
    "        self.last = last\n",
    "        self.pay = pay\n",
    "        self.email = first +'.'+ last + '@company.com'\n",
    "        Employee.num_of_emps += 1\n",
    "    \n",
    "    def fullname(self): #regular methods automatically take the instance (self) as first argument\n",
    "        return '{} {}'.format(self.first,self.last)\n",
    "    \n",
    "    def apply_raise(self):\n",
    "        self.pay = int(self.pay * self.raise_amount)\n",
    "        \n",
    "    @classmethod                    #class methods\n",
    "    def set_raise_amt(cls, amount): #cls is covention like self\n",
    "        cls.raise_amount = amount\n",
    "        \n",
    "    @classmethod                    #class method usekd as alternative constructor\n",
    "    def from_string(cls, emp_str):\n",
    "        first, last, pay = emp_str.split('-')\n",
    "        return cls(first, last, pay) #this will create the new employee\n",
    "    \n",
    "    @staticmethod                    #static method \n",
    "    def is_workday(day):             #doesn't take instance or class as argument\n",
    "        if day.weekday() == 5 or day.weekday() == 6:\n",
    "            return False\n",
    "        return True\n",
    "        \n",
    "        \n",
    "emp_1 = Employee('Corey','Schafer',50000)\n",
    "emp_2 = Employee('Test','User',60000)\n",
    "\n",
    "import datetime\n",
    "my_date = datetime.date(2023, 11, 20)\n",
    "\n",
    "print(Employee.is_workday(my_date))"
   ]
  },
  {
   "cell_type": "markdown",
   "id": "e879a104",
   "metadata": {},
   "source": [
    "## 4. Inheritance - Creating Subclasses"
   ]
  },
  {
   "cell_type": "code",
   "execution_count": 74,
   "id": "a6f279ed",
   "metadata": {},
   "outputs": [
    {
     "name": "stdout",
     "output_type": "stream",
     "text": [
      "Corey.Schafer@company.com\n",
      "Test.User@company.com\n",
      "Help on class Developer in module __main__:\n",
      "\n",
      "class Developer(Employee)\n",
      " |  Developer(first, last, pay)\n",
      " |  \n",
      " |  Method resolution order:\n",
      " |      Developer\n",
      " |      Employee\n",
      " |      builtins.object\n",
      " |  \n",
      " |  Methods inherited from Employee:\n",
      " |  \n",
      " |  __init__(self, first, last, pay)\n",
      " |      Initialize self.  See help(type(self)) for accurate signature.\n",
      " |  \n",
      " |  apply_raise(self)\n",
      " |  \n",
      " |  fullname(self)\n",
      " |  \n",
      " |  ----------------------------------------------------------------------\n",
      " |  Data descriptors inherited from Employee:\n",
      " |  \n",
      " |  __dict__\n",
      " |      dictionary for instance variables (if defined)\n",
      " |  \n",
      " |  __weakref__\n",
      " |      list of weak references to the object (if defined)\n",
      " |  \n",
      " |  ----------------------------------------------------------------------\n",
      " |  Data and other attributes inherited from Employee:\n",
      " |  \n",
      " |  raise_amount = 1.04\n",
      "\n",
      "None\n"
     ]
    }
   ],
   "source": [
    "class Employee:\n",
    "    \n",
    "    raise_amount = 1.04 #class variables\n",
    "    \n",
    "    def __init__(self, first, last, pay):\n",
    "        self.first = first #instance variables\n",
    "        self.last = last\n",
    "        self.pay = pay\n",
    "        self.email = first +'.'+ last + '@company.com'\n",
    "    \n",
    "    def fullname(self): #regular methods automatically take the instance (self) as first argument\n",
    "        return '{} {}'.format(self.first,self.last)\n",
    "    \n",
    "    def apply_raise(self):\n",
    "        self.pay = int(self.pay * self.raise_amount)\n",
    "\n",
    "class Developer(Employee): \n",
    "    pass\n",
    "        \n",
    "#dev_1 = Employee('Corey','Schafer',50000)\n",
    "#dev_2 = Employee('Test','User',60000)\n",
    "\n",
    "dev_1 = Developer('Corey','Schafer',50000)  #Method Resolution order, Developer has no init so it takes from Employee\n",
    "dev_2 = Developer('Test','User',60000)\n",
    "\n",
    "\n",
    "print(dev_1.email)\n",
    "print(dev_2.email)\n",
    "\n",
    "print(help(Developer))"
   ]
  },
  {
   "cell_type": "code",
   "execution_count": 60,
   "id": "77427d4b",
   "metadata": {},
   "outputs": [
    {
     "name": "stdout",
     "output_type": "stream",
     "text": [
      "50000\n",
      "52000\n"
     ]
    }
   ],
   "source": [
    "class Employee:\n",
    "    \n",
    "    raise_amount = 1.04 #class variables\n",
    "    \n",
    "    def __init__(self, first, last, pay):\n",
    "        self.first = first #instance variables\n",
    "        self.last = last\n",
    "        self.pay = pay\n",
    "        self.email = first +'.'+ last + '@company.com'\n",
    "    \n",
    "    def fullname(self):\n",
    "        return '{} {}'.format(self.first,self.last)\n",
    "    \n",
    "    def apply_raise(self):\n",
    "        self.pay = int(self.pay * self.raise_amount)\n",
    "\n",
    "class Developer(Employee): \n",
    "    pass\n",
    "        \n",
    "dev_1 = Developer('Corey','Schafer',50000)\n",
    "dev_2 = Developer('Test','User',60000)\n",
    "\n",
    "print(dev_1.pay)\n",
    "dev_1.apply_raise()\n",
    "print(dev_1.pay)"
   ]
  },
  {
   "cell_type": "code",
   "execution_count": 63,
   "id": "28028199",
   "metadata": {},
   "outputs": [
    {
     "name": "stdout",
     "output_type": "stream",
     "text": [
      "50000\n",
      "55000\n"
     ]
    }
   ],
   "source": [
    "class Employee:\n",
    "    \n",
    "    raise_amt = 1.04 #class variables\n",
    "    \n",
    "    def __init__(self, first, last, pay):\n",
    "        self.first = first #instance variables\n",
    "        self.last = last\n",
    "        self.pay = pay\n",
    "        self.email = first +'.'+ last + '@company.com'\n",
    "    \n",
    "    def fullname(self):\n",
    "        return '{} {}'.format(self.first,self.last)\n",
    "    \n",
    "    def apply_raise(self):\n",
    "        self.pay = int(self.pay * self.raise_amt)\n",
    "\n",
    "class Developer(Employee): \n",
    "    raise_amt = 1.10\n",
    "        \n",
    "dev_1 = Developer('Corey','Schafer',50000)\n",
    "dev_2 = Developer('Test','User',60000)\n",
    "\n",
    "print(dev_1.pay)\n",
    "dev_1.apply_raise()\n",
    "print(dev_1.pay)"
   ]
  },
  {
   "cell_type": "code",
   "execution_count": 75,
   "id": "6971e9e1",
   "metadata": {},
   "outputs": [
    {
     "name": "stdout",
     "output_type": "stream",
     "text": [
      "Corey.Schafer@company.com\n",
      "Python\n"
     ]
    }
   ],
   "source": [
    "class Employee:\n",
    "    \n",
    "    raise_amt = 1.04 #class variables\n",
    "    \n",
    "    def __init__(self, first, last, pay):\n",
    "        self.first = first #instance variables\n",
    "        self.last = last\n",
    "        self.pay = pay\n",
    "        self.email = first +'.'+ last + '@company.com'\n",
    "    \n",
    "    def fullname(self):\n",
    "        return '{} {}'.format(self.first,self.last)\n",
    "    \n",
    "    def apply_raise(self):\n",
    "        self.pay = int(self.pay * self.raise_amt)\n",
    "\n",
    "class Developer(Employee): \n",
    "    raise_amt = 1.10\n",
    "    \n",
    "    def __init__(self, first, last, pay, prog_lang):\n",
    "        super().__init__(first,last,pay)\n",
    "        #Employee.__init__(self,first,last,pay) also works\n",
    "        self.prog_lang = prog_lang\n",
    "        \n",
    "dev_1 = Developer('Corey','Schafer',50000, 'Python')\n",
    "dev_2 = Developer('Test','User',60000, 'Java')\n",
    "\n",
    "print(dev_1.email)\n",
    "print(dev_1.prog_lang)"
   ]
  },
  {
   "cell_type": "code",
   "execution_count": 80,
   "id": "07f13ab5",
   "metadata": {},
   "outputs": [
    {
     "name": "stdout",
     "output_type": "stream",
     "text": [
      "Sue.Smith@company.com\n",
      "--> Corey Schafer\n",
      "--> Corey Schafer\n",
      "--> Test User\n",
      "--> Test User\n"
     ]
    }
   ],
   "source": [
    "class Employee:\n",
    "    \n",
    "    raise_amt = 1.04 #class variables\n",
    "    \n",
    "    def __init__(self, first, last, pay):\n",
    "        self.first = first #instance variables\n",
    "        self.last = last\n",
    "        self.pay = pay\n",
    "        self.email = first +'.'+ last + '@company.com'\n",
    "    \n",
    "    def fullname(self):\n",
    "        return '{} {}'.format(self.first,self.last)\n",
    "    \n",
    "    def apply_raise(self):\n",
    "        self.pay = int(self.pay * self.raise_amt)\n",
    "\n",
    "class Developer(Employee): \n",
    "    raise_amt = 1.10\n",
    "    \n",
    "    def __init__(self, first, last, pay, prog_lang):\n",
    "        super().__init__(first,last,pay)\n",
    "        #Employee.__init__(self,first,last,pay) also works\n",
    "        self.prog_lang = prog_lang\n",
    "        \n",
    "class Manager(Employee):\n",
    "    def __init__(self, first, last, pay, employees=None):\n",
    "        super().__init__(first,last,pay)\n",
    "        if employees is None:\n",
    "            self.employees = []\n",
    "        else:\n",
    "            self.employees = employees\n",
    "            \n",
    "    def add_emp(self, emp):\n",
    "        if emp not in self.employees:\n",
    "            self.employees.append(emp)\n",
    "    \n",
    "    def remove_emp(self, emp):\n",
    "        if emp in self.employees:\n",
    "            self.employees.remove(emp)\n",
    "    \n",
    "    def print_emps(self):\n",
    "        for emp in self.employees:\n",
    "            print('-->', emp.fullname())\n",
    "            \n",
    "dev_1 = Developer('Corey','Schafer',50000, 'Python')\n",
    "dev_2 = Developer('Test','User',60000, 'Java')\n",
    "\n",
    "mgr_1 = Manager('Sue','Smith',90000,[dev_1])\n",
    "\n",
    "print(mgr_1.email)\n",
    "mgr_1.print_emps()\n",
    "\n",
    "mgr_1.add_emp(dev_2)\n",
    "mgr_1.print_emps()\n",
    "\n",
    "mgr_1.remove_emp(dev_1)\n",
    "mgr_1.print_emps()"
   ]
  },
  {
   "cell_type": "code",
   "execution_count": 86,
   "id": "569cbd38",
   "metadata": {},
   "outputs": [
    {
     "name": "stdout",
     "output_type": "stream",
     "text": [
      "True\n",
      "True\n",
      "False\n",
      "True\n",
      "True\n",
      "False\n"
     ]
    }
   ],
   "source": [
    "class Employee:\n",
    "    \n",
    "    raise_amt = 1.04 #class variables\n",
    "    \n",
    "    def __init__(self, first, last, pay):\n",
    "        self.first = first #instance variables\n",
    "        self.last = last\n",
    "        self.pay = pay\n",
    "        self.email = first +'.'+ last + '@company.com'\n",
    "    \n",
    "    def fullname(self):\n",
    "        return '{} {}'.format(self.first,self.last)\n",
    "    \n",
    "    def apply_raise(self):\n",
    "        self.pay = int(self.pay * self.raise_amt)\n",
    "\n",
    "class Developer(Employee): \n",
    "    raise_amt = 1.10\n",
    "    \n",
    "    def __init__(self, first, last, pay, prog_lang):\n",
    "        super().__init__(first,last,pay)\n",
    "        #Employee.__init__(self,first,last,pay) also works\n",
    "        self.prog_lang = prog_lang\n",
    "        \n",
    "class Manager(Employee):\n",
    "    def __init__(self, first, last, pay, employees=None):\n",
    "        super().__init__(first,last,pay)\n",
    "        if employees is None:\n",
    "            self.employees = []\n",
    "        else:\n",
    "            self.employees = employees\n",
    "            \n",
    "    def add_emp(self, emp):\n",
    "        if emp not in self.employees:\n",
    "            self.employees.append(emp)\n",
    "    \n",
    "    def remove_emp(self, emp):\n",
    "        if emp in self.employees:\n",
    "            self.employees.remove(emp)\n",
    "    \n",
    "    def print_emps(self):\n",
    "        for emp in self.employees:\n",
    "            print('-->', emp.fullname())\n",
    "            \n",
    "dev_1 = Developer('Corey','Schafer',50000, 'Python')\n",
    "dev_2 = Developer('Test','User',60000, 'Java')\n",
    "\n",
    "mgr_1 = Manager('Sue','Smith',90000,[dev_1])\n",
    "\n",
    "print(isinstance(mgr_1, Manager))\n",
    "print(isinstance(mgr_1, Employee))\n",
    "print(isinstance(mgr_1, Developer))\n",
    "\n",
    "\n",
    "print(issubclass(Developer, Employee))\n",
    "print(issubclass(Manager, Employee))\n",
    "print(issubclass(Manager, Developer))"
   ]
  },
  {
   "cell_type": "markdown",
   "id": "faaa00e3",
   "metadata": {},
   "source": [
    "## 5. Special (Magic/Dunder) Methods"
   ]
  },
  {
   "cell_type": "code",
   "execution_count": 90,
   "id": "2961e72b",
   "metadata": {},
   "outputs": [
    {
     "name": "stdout",
     "output_type": "stream",
     "text": [
      "3\n",
      "ab\n",
      "<__main__.Employee object at 0x000001C937F4C4C0>\n"
     ]
    }
   ],
   "source": [
    "class Employee:\n",
    "    \n",
    "    raise_amt = 1.04 #class variables\n",
    "    \n",
    "    def __init__(self, first, last, pay):\n",
    "        self.first = first #instance variables\n",
    "        self.last = last\n",
    "        self.pay = pay\n",
    "        self.email = first +'.'+ last + '@company.com'\n",
    "    \n",
    "    def fullname(self):\n",
    "        return '{} {}'.format(self.first,self.last)\n",
    "    \n",
    "    def apply_raise(self):\n",
    "        self.pay = int(self.pay * self.raise_amt)\n",
    "        \n",
    "    #def __repr__(self): #for developers\n",
    "    #    pass\n",
    "        \n",
    "    # def __str__(self): #readable representation for all\n",
    "    #    pass\n",
    "        \n",
    "emp_1 = Employee('Corey','Schafer',50000)\n",
    "emp_2 = Employee('Test','User',60000)\n",
    "\n",
    "print(1+2)\n",
    "print('a'+'b')\n",
    "print(emp_1)\n",
    "\n"
   ]
  },
  {
   "cell_type": "code",
   "execution_count": 93,
   "id": "3e40570b",
   "metadata": {},
   "outputs": [
    {
     "name": "stdout",
     "output_type": "stream",
     "text": [
      "Employee('Corey', 'Schafer, 50000)\n"
     ]
    }
   ],
   "source": [
    "class Employee:\n",
    "    \n",
    "    raise_amt = 1.04 #class variables\n",
    "    \n",
    "    def __init__(self, first, last, pay):\n",
    "        self.first = first #instance variables\n",
    "        self.last = last\n",
    "        self.pay = pay\n",
    "        self.email = first +'.'+ last + '@company.com'\n",
    "    \n",
    "    def fullname(self):\n",
    "        return '{} {}'.format(self.first,self.last)\n",
    "    \n",
    "    def apply_raise(self):\n",
    "        self.pay = int(self.pay * self.raise_amt)\n",
    "        \n",
    "    def __repr__(self): #for developers\n",
    "        return \"Employee('{}', '{}, {})\".format(self.first, self.last, self.pay)\n",
    "    \n",
    "    #def __str__(self): #readable representation for all\n",
    "    #    pass\n",
    "        \n",
    "emp_1 = Employee('Corey','Schafer',50000)\n",
    "emp_2 = Employee('Test','User',60000)\n",
    "\n",
    "print(emp_1)"
   ]
  },
  {
   "cell_type": "code",
   "execution_count": 102,
   "id": "f4bdab88",
   "metadata": {},
   "outputs": [
    {
     "name": "stdout",
     "output_type": "stream",
     "text": [
      "Corey Schafer - Corey.Schafer@company.com\n",
      "Employee('Corey', 'Schafer, 50000)\n",
      "Corey Schafer - Corey.Schafer@company.com\n",
      "Employee('Corey', 'Schafer, 50000)\n",
      "Corey Schafer - Corey.Schafer@company.com\n",
      "3\n",
      "3\n",
      "ab\n"
     ]
    }
   ],
   "source": [
    "class Employee:\n",
    "    \n",
    "    raise_amt = 1.04 #class variables\n",
    "    \n",
    "    def __init__(self, first, last, pay):\n",
    "        self.first = first #instance variables\n",
    "        self.last = last\n",
    "        self.pay = pay\n",
    "        self.email = first +'.'+ last + '@company.com'\n",
    "    \n",
    "    def fullname(self):\n",
    "        return '{} {}'.format(self.first,self.last)\n",
    "    \n",
    "    def apply_raise(self):\n",
    "        self.pay = int(self.pay * self.raise_amt)\n",
    "        \n",
    "    def __repr__(self): #for developers\n",
    "        return \"Employee('{}', '{}, {})\".format(self.first, self.last, self.pay)\n",
    "    \n",
    "    def __str__(self): #readable representation for all\n",
    "        return '{} - {}'.format(self.fullname(), self.email)\n",
    "        \n",
    "emp_1 = Employee('Corey','Schafer',50000)\n",
    "emp_2 = Employee('Test','User',60000)\n",
    "\n",
    "print(emp_1)\n",
    "\n",
    "print(repr(emp_1))\n",
    "print(str(emp_1))\n",
    "\n",
    "print(emp_1.__repr__())\n",
    "print(emp_1.__str__())\n",
    "\n",
    "print(1+2)\n",
    "print(int.__add__(1,2))\n",
    "print(str.__add__('a','b'))"
   ]
  },
  {
   "cell_type": "code",
   "execution_count": 105,
   "id": "6341e275",
   "metadata": {},
   "outputs": [
    {
     "name": "stdout",
     "output_type": "stream",
     "text": [
      "110000\n"
     ]
    }
   ],
   "source": [
    "class Employee:\n",
    "    \n",
    "    raise_amt = 1.04 #class variables\n",
    "    \n",
    "    def __init__(self, first, last, pay):\n",
    "        self.first = first #instance variables\n",
    "        self.last = last\n",
    "        self.pay = pay\n",
    "        self.email = first +'.'+ last + '@company.com'\n",
    "    \n",
    "    def fullname(self):\n",
    "        return '{} {}'.format(self.first,self.last)\n",
    "    \n",
    "    def apply_raise(self):\n",
    "        self.pay = int(self.pay * self.raise_amt)\n",
    "        \n",
    "    def __repr__(self): #for developers\n",
    "        return \"Employee('{}', '{}, {})\".format(self.first, self.last, self.pay)\n",
    "    \n",
    "    def __str__(self): #readable representation for all\n",
    "        return '{} - {}'.format(self.fullname(), self.email)\n",
    "    \n",
    "    def __add__(self, other):\n",
    "       return self.pay + other.pay\n",
    "        \n",
    "emp_1 = Employee('Corey','Schafer',50000)\n",
    "emp_2 = Employee('Test','User',60000)\n",
    "\n",
    "#without function def __add__\n",
    "#TypeError: unsupported operand type(s) for +: 'Employee' and 'Employee'\n",
    "print(emp_1 + emp_2) "
   ]
  },
  {
   "cell_type": "code",
   "execution_count": 108,
   "id": "09968e0c",
   "metadata": {},
   "outputs": [
    {
     "name": "stdout",
     "output_type": "stream",
     "text": [
      "4\n",
      "4\n",
      "13\n"
     ]
    }
   ],
   "source": [
    "class Employee:\n",
    "    \n",
    "    raise_amt = 1.04 #class variables\n",
    "    \n",
    "    def __init__(self, first, last, pay):\n",
    "        self.first = first #instance variables\n",
    "        self.last = last\n",
    "        self.pay = pay\n",
    "        self.email = first +'.'+ last + '@company.com'\n",
    "    \n",
    "    def fullname(self):\n",
    "        return '{} {}'.format(self.first,self.last)\n",
    "    \n",
    "    def apply_raise(self):\n",
    "        self.pay = int(self.pay * self.raise_amt)\n",
    "        \n",
    "    def __repr__(self): #for developers\n",
    "        return \"Employee('{}', '{}, {})\".format(self.first, self.last, self.pay)\n",
    "    \n",
    "    def __str__(self): #readable representation for all\n",
    "        return '{} - {}'.format(self.fullname(), self.email)\n",
    "    \n",
    "    def __add__(self, other):\n",
    "       return self.pay + other.pay\n",
    "\n",
    "    def __len__(self):\n",
    "        return len(self.fullname())\n",
    "        \n",
    "emp_1 = Employee('Corey','Schafer',50000)\n",
    "emp_2 = Employee('Test','User',60000)\n",
    "\n",
    "print(len('test'))\n",
    "print('test'.__len__())\n",
    "\n",
    "print(len(emp_1))"
   ]
  },
  {
   "cell_type": "markdown",
   "id": "89026289",
   "metadata": {},
   "source": [
    "## 6. Property Decoraters - Getter, Setter, Deleter"
   ]
  },
  {
   "cell_type": "code",
   "execution_count": 110,
   "id": "83fe0450",
   "metadata": {},
   "outputs": [
    {
     "name": "stdout",
     "output_type": "stream",
     "text": [
      "John\n",
      "John.Smith@company.com\n",
      "John Smith\n"
     ]
    }
   ],
   "source": [
    "class Employee:\n",
    "    \n",
    "    def __init__(self, first, last):\n",
    "        self.first = first\n",
    "        self.last = last\n",
    "        self.email = first +'.'+ last + '@company.com'\n",
    "    \n",
    "    def fullname(self):\n",
    "        return '{} {}'.format(self.first,self.last)\n",
    "    \n",
    "emp_1 = Employee('John', 'Smith')\n",
    "\n",
    "print(emp_1.first)\n",
    "print(emp_1.email)\n",
    "print(emp_1.fullname())"
   ]
  },
  {
   "cell_type": "code",
   "execution_count": 113,
   "id": "a2514323",
   "metadata": {},
   "outputs": [
    {
     "name": "stdout",
     "output_type": "stream",
     "text": [
      "Jim\n",
      "<bound method Employee.email of <__main__.Employee object at 0x000001C937F457C0>>\n",
      "Jim Smith\n",
      "Jim\n",
      "Jim.Smith@company.com\n",
      "Jim Smith\n"
     ]
    }
   ],
   "source": [
    "class Employee:\n",
    "    \n",
    "    def __init__(self, first, last):\n",
    "        self.first = first\n",
    "        self.last = last\n",
    "    \n",
    "    def email(self):\n",
    "        return '{}.{}@company.com'.format(self.first,self.last)\n",
    "    \n",
    "    def fullname(self):\n",
    "        return '{} {}'.format(self.first,self.last)\n",
    "    \n",
    "emp_1 = Employee('John', 'Smith')\n",
    "\n",
    "emp_1.first = 'Jim'\n",
    "\n",
    "print(emp_1.first)\n",
    "print(emp_1.email)\n",
    "print(emp_1.fullname())\n",
    "\n",
    "print(emp_1.first)\n",
    "print(emp_1.email())\n",
    "print(emp_1.fullname())"
   ]
  },
  {
   "cell_type": "code",
   "execution_count": 116,
   "id": "eeb8ee87",
   "metadata": {},
   "outputs": [
    {
     "name": "stdout",
     "output_type": "stream",
     "text": [
      "Jim\n",
      "Jim.Smith@company.com\n",
      "Jim Smith\n"
     ]
    }
   ],
   "source": [
    "class Employee:\n",
    "    \n",
    "    def __init__(self, first, last):\n",
    "        self.first = first\n",
    "        self.last = last\n",
    "    \n",
    "    @property\n",
    "    def email(self):\n",
    "        return '{}.{}@company.com'.format(self.first,self.last)\n",
    "    \n",
    "    @property\n",
    "    def fullname(self):\n",
    "        return '{} {}'.format(self.first,self.last)\n",
    "    \n",
    "emp_1 = Employee('John', 'Smith')\n",
    "\n",
    "emp_1.first = 'Jim'\n",
    "\n",
    "print(emp_1.first)\n",
    "print(emp_1.email)\n",
    "print(emp_1.fullname)"
   ]
  },
  {
   "cell_type": "code",
   "execution_count": 117,
   "id": "ea09cd99",
   "metadata": {},
   "outputs": [
    {
     "ename": "AttributeError",
     "evalue": "can't set attribute",
     "output_type": "error",
     "traceback": [
      "\u001b[1;31m---------------------------------------------------------------------------\u001b[0m",
      "\u001b[1;31mAttributeError\u001b[0m                            Traceback (most recent call last)",
      "\u001b[1;32m~\\AppData\\Local\\Temp\\ipykernel_19992\\2996265846.py\u001b[0m in \u001b[0;36m<module>\u001b[1;34m\u001b[0m\n\u001b[0;32m     15\u001b[0m \u001b[0memp_1\u001b[0m \u001b[1;33m=\u001b[0m \u001b[0mEmployee\u001b[0m\u001b[1;33m(\u001b[0m\u001b[1;34m'John'\u001b[0m\u001b[1;33m,\u001b[0m \u001b[1;34m'Smith'\u001b[0m\u001b[1;33m)\u001b[0m\u001b[1;33m\u001b[0m\u001b[1;33m\u001b[0m\u001b[0m\n\u001b[0;32m     16\u001b[0m \u001b[1;33m\u001b[0m\u001b[0m\n\u001b[1;32m---> 17\u001b[1;33m \u001b[0memp_1\u001b[0m\u001b[1;33m.\u001b[0m\u001b[0mfullname\u001b[0m \u001b[1;33m=\u001b[0m \u001b[1;34m'Corey Schafer'\u001b[0m\u001b[1;33m\u001b[0m\u001b[1;33m\u001b[0m\u001b[0m\n\u001b[0m",
      "\u001b[1;31mAttributeError\u001b[0m: can't set attribute"
     ]
    }
   ],
   "source": [
    "class Employee:\n",
    "    \n",
    "    def __init__(self, first, last):\n",
    "        self.first = first\n",
    "        self.last = last\n",
    "    \n",
    "    @property\n",
    "    def email(self):\n",
    "        return '{}.{}@company.com'.format(self.first,self.last)\n",
    "    \n",
    "    @property\n",
    "    def fullname(self):\n",
    "        return '{} {}'.format(self.first,self.last)\n",
    "    \n",
    "emp_1 = Employee('John', 'Smith')\n",
    "\n",
    "emp_1.fullname = 'Corey Schafer'"
   ]
  },
  {
   "cell_type": "code",
   "execution_count": 121,
   "id": "ce16c25d",
   "metadata": {},
   "outputs": [
    {
     "name": "stdout",
     "output_type": "stream",
     "text": [
      "Corey\n",
      "Corey.Schafer@company.com\n",
      "Corey Schafer\n",
      "Delete Name!\n"
     ]
    }
   ],
   "source": [
    "class Employee:\n",
    "    \n",
    "    def __init__(self, first, last):\n",
    "        self.first = first\n",
    "        self.last = last\n",
    "    \n",
    "    @property\n",
    "    def email(self):\n",
    "        return '{}.{}@company.com'.format(self.first,self.last)\n",
    "    \n",
    "    @property\n",
    "    def fullname(self):\n",
    "        return '{} {}'.format(self.first,self.last)\n",
    "    \n",
    "    @fullname.setter\n",
    "    def fullname(self, name):\n",
    "        first, last = name.split(' ')\n",
    "        self.first = first\n",
    "        self.last = last\n",
    "    \n",
    "    @fullname.deleter\n",
    "    def fullname(self):\n",
    "        print('Delete Name!')\n",
    "        self.first = None\n",
    "        self.last = None\n",
    "        \n",
    "emp_1 = Employee('John', 'Smith')\n",
    "\n",
    "emp_1.fullname = 'Corey Schafer'\n",
    "\n",
    "print(emp_1.first)\n",
    "print(emp_1.email)\n",
    "print(emp_1.fullname)\n",
    "\n",
    "del emp_1.fullname"
   ]
  }
 ],
 "metadata": {
  "kernelspec": {
   "display_name": "Python 3 (ipykernel)",
   "language": "python",
   "name": "python3"
  },
  "language_info": {
   "codemirror_mode": {
    "name": "ipython",
    "version": 3
   },
   "file_extension": ".py",
   "mimetype": "text/x-python",
   "name": "python",
   "nbconvert_exporter": "python",
   "pygments_lexer": "ipython3",
   "version": "3.9.13"
  }
 },
 "nbformat": 4,
 "nbformat_minor": 5
}
